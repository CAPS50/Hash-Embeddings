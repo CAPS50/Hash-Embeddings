{
 "cells": [
  {
   "cell_type": "code",
   "execution_count": 1,
   "metadata": {
    "ExecuteTime": {
     "end_time": "2018-01-14T14:00:14.871142Z",
     "start_time": "2018-01-14T14:00:14.861467Z"
    }
   },
   "outputs": [],
   "source": [
    "import sys\n",
    "sys.path.append('..')\n",
    "\n",
    "import torch\n",
    "import numpy as np\n",
    "import hashlib\n",
    "import torch.nn as nn\n",
    "import nltk\n",
    "import torch.functional as F\n",
    "from torch.autograd import Variable\n",
    "from torch.utils.data import DataLoader, TensorDataset\n",
    "from sklearn.metrics import accuracy_score\n",
    "from sklearn.datasets import fetch_20newsgroups\n",
    "\n",
    "from hashembed.embedding import HashEmbedding\n",
    "from evaluate.data_loader import *\n",
    "from evaluate.helpers import *"
   ]
  },
  {
   "cell_type": "code",
   "execution_count": 30,
   "metadata": {},
   "outputs": [
    {
     "data": {
      "text/plain": [
       "<torch._C.Generator at 0x110a2f2b0>"
      ]
     },
     "execution_count": 30,
     "metadata": {},
     "output_type": "execute_result"
    }
   ],
   "source": [
    "# constants\n",
    "use_hash_embeddings = True\n",
    "embedding_size = 20\n",
    "num_buckets = 10**4\n",
    "max_words = 10**5\n",
    "max_epochs = 2\n",
    "num_hash_functions = 2\n",
    "hidden = 50 \n",
    "seed = 3\n",
    "batchSize = 32 # default in keras\n",
    "size_phrase = 150\n",
    "isMasking = True\n",
    "\n",
    "np.random.seed(seed)\n",
    "torch.manual_seed(seed)"
   ]
  },
  {
   "cell_type": "code",
   "execution_count": 31,
   "metadata": {},
   "outputs": [],
   "source": [
    "trainAg = AgNews(maxWord=max_words,maxLength=size_phrase,train=True, hash_function='sha1')\n",
    "testAg = AgNews(maxWord=max_words,maxLength=size_phrase,train=False, hash_function='sha1')"
   ]
  },
  {
   "cell_type": "code",
   "execution_count": 32,
   "metadata": {},
   "outputs": [],
   "source": [
    "trainIter = DataLoader(dataset=trainAg,batch_size=batchSize,shuffle=False)\n",
    "testIter = DataLoader(dataset=testAg,batch_size=batchSize,shuffle=False)"
   ]
  },
  {
   "cell_type": "code",
   "execution_count": 33,
   "metadata": {},
   "outputs": [],
   "source": [
    "num_classes = len(trainAg.classes)"
   ]
  },
  {
   "cell_type": "code",
   "execution_count": 34,
   "metadata": {
    "ExecuteTime": {
     "end_time": "2018-01-14T14:02:37.902788Z",
     "start_time": "2018-01-14T14:02:37.893644Z"
    }
   },
   "outputs": [],
   "source": [
    "def ReduceSum(x):\n",
    "    return torch.sum(x,dim=1)\n",
    "\n",
    "def param_from_np(array, requires_grad=True, astype=torch.FloatTensor):\n",
    "    return torch.nn.Parameter(torch.from_numpy(array).type(astype),requires_grad=requires_grad)"
   ]
  },
  {
   "cell_type": "code",
   "execution_count": 35,
   "metadata": {
    "ExecuteTime": {
     "end_time": "2018-01-14T14:02:38.146628Z",
     "start_time": "2018-01-14T14:02:38.039890Z"
    }
   },
   "outputs": [],
   "source": [
    "class ModelSimple(nn.Module):\n",
    "    def __init__(self,max_words,embedding_size,num_classes,hidden=hidden,seed=3,isMasking=isMasking,isHash=False,**kwargs):\n",
    "        np.random.seed(seed)\n",
    "        torch.manual_seed(seed)\n",
    "        super().__init__()\n",
    "        \n",
    "        self.padding_idx = 0 if isMasking else None\n",
    "        self.isHash = isHash\n",
    "        if self.isHash:\n",
    "            self.embedding = HashEmbedding(max_words,embedding_size,mask_zero=isMasking,\n",
    "                                           num_buckets=num_buckets,seed=seed,**kwargs)\n",
    "        else:\n",
    "            self.embedding = nn.Embedding(max_words,embedding_size,padding_idx=self.padding_idx)\n",
    "        self.reduce = ReduceSum\n",
    "        \n",
    "        self.output_dim = self.embedding.output_dim if isHash else embedding_size\n",
    "        self.fc1 = nn.Linear(self.output_dim, num_classes)\n",
    "        \n",
    "        self.reset_parameters()\n",
    "        \n",
    "    def reset_parameters(self):\n",
    "        # Unfortunately has to set weight to 0 even when padding_idx =0\n",
    "        if not self.isHash:\n",
    "            init=np.random.normal(scale=0.05,size=self.embedding.weight.shape)\n",
    "            if self.padding_idx is not None:\n",
    "                init[0,:] = 0\n",
    "            self.embedding.weight = param_from_np(init)\n",
    "        \n",
    "        self.fc1.weight = param_from_np(np.random.normal(scale=0.05,size=self.fc1.weight.shape))\n",
    "        self.fc1.bias = param_from_np(np.zeros(self.fc1.bias.shape))\n",
    "        \n",
    "    def forward(self,x):\n",
    "        #print()\n",
    "        #print(x.data.shape)\n",
    "        x = self.embedding(x)\n",
    "        #print(x.data.shape)\n",
    "        x = self.reduce(x) \n",
    "        #print(x.data.shape)\n",
    "        #x = x.view(x.size(0),-1)\n",
    "        #print(x.data.shape)\n",
    "        x = self.fc1(x)\n",
    "        #print(x.data.shape)\n",
    "        return x"
   ]
  },
  {
   "cell_type": "code",
   "execution_count": 28,
   "metadata": {
    "ExecuteTime": {
     "end_time": "2018-01-14T14:03:22.697599Z",
     "start_time": "2018-01-14T14:03:08.173425Z"
    }
   },
   "outputs": [
    {
     "name": "stdout",
     "output_type": "stream",
     "text": [
      "Num parameters in model: 400084\n",
      "Train on 120000 samples, validate on 7600 samples\n",
      "Iter: 500. Loss: 0.4013097584247589. Acc: 0.855.\n",
      "Iter: 1000. Loss: 0.2846349775791168. Acc: 0.8814473684210526.\n",
      "Iter: 1500. Loss: 0.1797334849834442. Acc: 0.8885526315789474.\n",
      "Iter: 2000. Loss: 0.7115187644958496. Acc: 0.8918421052631579.\n",
      "Iter: 2500. Loss: 0.3064766228199005. Acc: 0.9025.\n",
      "Iter: 3000. Loss: 0.23164613544940948. Acc: 0.9069736842105263.\n",
      "Iter: 3500. Loss: 0.18615978956222534. Acc: 0.9101315789473684.\n",
      "Iter: 4000. Loss: 0.3013129234313965. Acc: 0.9132894736842105.\n",
      "Iter: 4500. Loss: 0.2002478837966919. Acc: 0.9126315789473685.\n",
      "Iter: 5000. Loss: 0.20568497478961945. Acc: 0.9139473684210526.\n",
      "Iter: 5500. Loss: 0.1013067290186882. Acc: 0.9097368421052632.\n",
      "Iter: 6000. Loss: 0.27220240235328674. Acc: 0.9084210526315789.\n",
      "Iter: 6500. Loss: 0.30281955003738403. Acc: 0.9107894736842105.\n",
      "Iter: 7000. Loss: 0.18671970069408417. Acc: 0.91.\n",
      "Iter: 7500. Loss: 0.06923487782478333. Acc: 0.9123684210526316.\n",
      "[torch.Size([100000, 2]), torch.Size([10000, 20]), torch.Size([4, 20]), torch.Size([4])]\n",
      "CPU times: user 1min 45s, sys: 557 ms, total: 1min 46s\n",
      "Wall time: 1min 46s\n"
     ]
    }
   ],
   "source": [
    "%%time \n",
    "\n",
    "np.random.seed(seed)\n",
    "torch.manual_seed(seed)\n",
    "\n",
    "model = ModelSimple(max_words,embedding_size,num_classes,isHash=True,append_weight=False)\n",
    "criterion=nn.CrossEntropyLoss() # Cross Entropy also computes softmax  !!!\n",
    "optimizer=torch.optim.Adam(model.parameters())\n",
    "\n",
    "i=0\n",
    "print('Num parameters in model: {}'.format(sum([np.prod(p.shape) for p in model.parameters()])))\n",
    "print(\"Train on {} samples, validate on {} samples\".format(len(trainIter.dataset),len(testIter.dataset)))\n",
    "for epoch in range(max_epochs):\n",
    "    for x,y in trainIter:\n",
    "        x = Variable(x)\n",
    "        y = Variable(y).squeeze(1)\n",
    "\n",
    "        optimizer.zero_grad() # Reset gradients\n",
    "        outputs = model(x)\n",
    "        loss = criterion(outputs,y)\n",
    "        loss.backward()\n",
    "        optimizer.step()\n",
    "        \n",
    "        i += 1\n",
    "        if i % 500 == 0:\n",
    "            total, correct = 0,0\n",
    "            for xTest,yTest in testIter:\n",
    "                yTest = yTest.squeeze(1)\n",
    "                xTest = Variable(xTest)\n",
    "                outputs = model(xTest)\n",
    "                _,predicted=torch.max(outputs.data,1)\n",
    "                correct += (predicted.cpu() == yTest.cpu()).sum()\n",
    "                total += yTest.size(0)\n",
    "            accuracy = correct / total\n",
    "            print(\"Iter: {}. Loss: {}. Acc: {}.\".format(i,loss.data[0],accuracy))\n",
    "        \n",
    "print([p.shape for p in model.parameters()])"
   ]
  },
  {
   "cell_type": "code",
   "execution_count": 36,
   "metadata": {},
   "outputs": [
    {
     "name": "stdout",
     "output_type": "stream",
     "text": [
      "Num parameters in model: 400084\n",
      "Train on 120000 samples, validate on 7600 samples\n",
      "Iter: 500. Loss: 0.3609367907047272. Acc: 0.8542105263157894.\n",
      "Iter: 1000. Loss: 0.30413705110549927. Acc: 0.8809210526315789.\n",
      "Iter: 1500. Loss: 0.19680339097976685. Acc: 0.8894736842105263.\n",
      "Iter: 2000. Loss: 0.7089694738388062. Acc: 0.8928947368421053.\n",
      "Iter: 2500. Loss: 0.2150319367647171. Acc: 0.8988157894736842.\n",
      "Iter: 3000. Loss: 0.2716756761074066. Acc: 0.9076315789473685.\n",
      "Iter: 3500. Loss: 0.21767686307430267. Acc: 0.9073684210526316.\n",
      "Iter: 4000. Loss: 0.25736936926841736. Acc: 0.9072368421052631.\n",
      "Iter: 4500. Loss: 0.21957768499851227. Acc: 0.9090789473684211.\n",
      "Iter: 5000. Loss: 0.19243374466896057. Acc: 0.9042105263157895.\n",
      "Iter: 5500. Loss: 0.06525357067584991. Acc: 0.9036842105263158.\n",
      "Iter: 6000. Loss: 0.33062615990638733. Acc: 0.9003947368421052.\n",
      "Iter: 6500. Loss: 0.20704275369644165. Acc: 0.9069736842105263.\n",
      "Iter: 7000. Loss: 0.2019444853067398. Acc: 0.9044736842105263.\n",
      "Iter: 7500. Loss: 0.07641279697418213. Acc: 0.905921052631579.\n",
      "[torch.Size([20000, 20]), torch.Size([4, 20]), torch.Size([4])]\n",
      "CPU times: user 56.1 s, sys: 402 ms, total: 56.5 s\n",
      "Wall time: 56.6 s\n"
     ]
    }
   ],
   "source": [
    "%%time \n",
    "\n",
    "np.random.seed(seed)\n",
    "torch.manual_seed(seed)\n",
    "\n",
    "model = ModelSimple(max_words,embedding_size,num_classes,isHash=False,append_weight=False)\n",
    "criterion=nn.CrossEntropyLoss() # Cross Entropy also computes softmax  !!!\n",
    "optimizer=torch.optim.Adam(model.parameters())\n",
    "\n",
    "i=0\n",
    "print('Num parameters in model: {}'.format(sum([np.prod(p.shape) for p in model.parameters()])))\n",
    "print(\"Train on {} samples, validate on {} samples\".format(len(trainIter.dataset),len(testIter.dataset)))\n",
    "for epoch in range(max_epochs):\n",
    "    for x,y in trainIter:\n",
    "        x = Variable(x)\n",
    "        y = Variable(y).squeeze(1)\n",
    "\n",
    "        optimizer.zero_grad() # Reset gradients\n",
    "        outputs = model(x)\n",
    "        loss = criterion(outputs,y)\n",
    "        loss.backward()\n",
    "        optimizer.step()\n",
    "        \n",
    "        i += 1\n",
    "        if i % 500 == 0:\n",
    "            total, correct = 0,0\n",
    "            for xTest,yTest in testIter:\n",
    "                yTest = yTest.squeeze(1)\n",
    "                xTest = Variable(xTest)\n",
    "                outputs = model(xTest)\n",
    "                _,predicted=torch.max(outputs.data,1)\n",
    "                correct += (predicted.cpu() == yTest.cpu()).sum()\n",
    "                total += yTest.size(0)\n",
    "            accuracy = correct / total\n",
    "            print(\"Iter: {}. Loss: {}. Acc: {}.\".format(i,loss.data[0],accuracy))\n",
    "        \n",
    "print([p.shape for p in model.parameters()])"
   ]
  },
  {
   "cell_type": "code",
   "execution_count": null,
   "metadata": {},
   "outputs": [],
   "source": []
  }
 ],
 "metadata": {
  "kernelspec": {
   "display_name": "Python 3",
   "language": "python",
   "name": "python3"
  },
  "language_info": {
   "codemirror_mode": {
    "name": "ipython",
    "version": 3
   },
   "file_extension": ".py",
   "mimetype": "text/x-python",
   "name": "python",
   "nbconvert_exporter": "python",
   "pygments_lexer": "ipython3",
   "version": "3.6.3"
  },
  "toc": {
   "colors": {
    "hover_highlight": "#DAA520",
    "navigate_num": "#000000",
    "navigate_text": "#333333",
    "running_highlight": "#FF0000",
    "selected_highlight": "#FFD700",
    "sidebar_border": "#EEEEEE",
    "wrapper_background": "#FFFFFF"
   },
   "moveMenuLeft": true,
   "nav_menu": {
    "height": "12px",
    "width": "252px"
   },
   "navigate_menu": true,
   "number_sections": true,
   "sideBar": true,
   "threshold": 4,
   "toc_cell": false,
   "toc_section_display": "block",
   "toc_window_display": false,
   "widenNotebook": false
  }
 },
 "nbformat": 4,
 "nbformat_minor": 2
}
